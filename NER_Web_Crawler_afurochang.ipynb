{
 "cells": [
  {
   "cell_type": "code",
   "execution_count": 3,
   "id": "b5cb14e4",
   "metadata": {},
   "outputs": [],
   "source": [
    "import pandas as pd\n",
    "from bs4 import BeautifulSoup\n",
    "import requests\n",
    "import re\n",
    "import os\n",
    "from tqdm import tqdm"
   ]
  },
  {
   "cell_type": "code",
   "execution_count": 4,
   "id": "7299cdc8",
   "metadata": {},
   "outputs": [],
   "source": [
    "student_id = [\"M11107503\", \"M11010113\"]\n",
    "student_name = [\"林璟芸\", \"張菁蘭\"]"
   ]
  },
  {
   "cell_type": "code",
   "execution_count": 5,
   "id": "ba3c6b2a",
   "metadata": {},
   "outputs": [],
   "source": [
    "from fake_useragent import UserAgent\n",
    "ua = UserAgent(use_cache_server=False)"
   ]
  },
  {
   "cell_type": "code",
   "execution_count": 6,
   "id": "57c39634",
   "metadata": {},
   "outputs": [],
   "source": [
    "sheet_names = [ \n",
    "                \"家電・電玩・視聽・廚三機\",\n",
    "                \"手機・平板・耳機・攝相機\" ,\n",
    "                \"電腦・電競・週邊・零組件\" ,\n",
    "                \"保健・醫療用品・保險套\" ,\n",
    "                \"食品・零食・飲料・生鮮\" ,\n",
    "                \"彩妝・保養・洗沐・香氛\" ,\n",
    "                \"服裝・內衣褲・襪子・機能\" ,\n",
    "                \"珠寶・精品・配飾・鞋包箱\" ,\n",
    "                \"日用品・清潔・餐廚・寵物\" ,\n",
    "                \"母嬰・童裝・尿布・玩具\" ,\n",
    "                \"傢俱・寢具・傢飾・修繕\" ,\n",
    "                \"運動・按摩・戶外・車類\" ,\n",
    "                \"圖書・文具・影音・樂器\" ,\n",
    "                \"旅遊・票券・加值・軟體\"\n",
    "                ]"
   ]
  },
  {
   "cell_type": "code",
   "execution_count": 7,
   "id": "6e0f5e53",
   "metadata": {},
   "outputs": [],
   "source": [
    "query_df = pd.read_excel('query.xlsx', sheet_name=sheet_names)"
   ]
  },
  {
   "cell_type": "code",
   "execution_count": 8,
   "id": "cd90bc8e",
   "metadata": {},
   "outputs": [
    {
     "data": {
      "text/plain": [
       "{'家電・電玩・視聽・廚三機':    組別    搜尋詞\n",
       " 0   3  可攜電磁爐\n",
       " 1   3     暖氣\n",
       " 2   3   大同電鍋\n",
       " 3   3    延長線\n",
       " 4   3    微波爐\n",
       " 5   3    捕蚊燈\n",
       " 6   3    吹風機\n",
       " 7   3    掃地機\n",
       " 8   3   免治馬桶\n",
       " 9   3    除濕機,\n",
       " '手機・平板・耳機・攝相機':    組別        搜尋詞\n",
       " 0   3       iPad\n",
       " 1   3       三星手機\n",
       " 2   3    ASUS 電腦\n",
       " 3   3       行動電源\n",
       " 4   3  Type C充電線\n",
       " 5   3    iPad保護貼\n",
       " 6   3       藍牙喇叭\n",
       " 7   3      黑色碳粉匣\n",
       " 8   3       智慧手錶\n",
       " 9   3       攝影腳架,\n",
       " '電腦・電競・週邊・零組件':    組別          搜尋詞\n",
       " 0   3     acer電競筆電\n",
       " 1   3     asus電競電腦\n",
       " 2   3     asus cpu\n",
       " 3   3     TEAM SSD\n",
       " 4   3      Acer 螢幕\n",
       " 5   3         水冷風扇\n",
       " 6   3           機殼\n",
       " 7   3    FSP 電源供應器\n",
       " 8   3          光碟機\n",
       " 9   3  ViewSonic螢幕,\n",
       " '保健・醫療用品・保險套':    組別    搜尋詞\n",
       " 0   3     護具\n",
       " 1   3     輔具\n",
       " 2   3   隱眼保液\n",
       " 3   3   防蚊乳液\n",
       " 4   3    OK繃\n",
       " 5   3  隱形痘痘貼\n",
       " 6   3    萬金油\n",
       " 7   3    暖水袋\n",
       " 8   3    洗吸鼻\n",
       " 9   3    暖暖包,\n",
       " '食品・零食・飲料・生鮮':    組別     搜尋詞\n",
       " 0   3  亞尼克生乳捲\n",
       " 1   3    哈根達斯\n",
       " 2   3    麥克雞塊\n",
       " 3   3      炸物\n",
       " 4   3    涼拌泡菜\n",
       " 5   3      滷味\n",
       " 6   3    黑糖饅頭\n",
       " 7   3      果醋\n",
       " 8   3    韭菜水餃\n",
       " 9   3      罐頭,\n",
       " '彩妝・保養・洗沐・香氛':    組別      搜尋詞\n",
       " 0   3     茶樹精油\n",
       " 1   3    控油精華液\n",
       " 2   3    保濕精華液\n",
       " 3   3    亮白精華液\n",
       " 4   3    抗痘精華液\n",
       " 5   3    舒敏精華液\n",
       " 6   3       泥膜\n",
       " 7   3       凍膜\n",
       " 8   3     片狀面膜\n",
       " 9   3  SK-II面膜,\n",
       " '服裝・內衣褲・襪子・機能':    組別      搜尋詞\n",
       " 0   3      遮陽帽\n",
       " 1   3     韓國襪子\n",
       " 2   3     連帽上衣\n",
       " 3   3     襯衫上衣\n",
       " 4   3  短袖POLO衫\n",
       " 5   3     吊帶上衣\n",
       " 6   3      絲褲襪\n",
       " 7   3      兒童襪\n",
       " 8   3    醫用輔助襪\n",
       " 9   3      除臭襪,\n",
       " '珠寶・精品・配飾・鞋包箱':    組別   搜尋詞\n",
       " 0   3    金飾\n",
       " 1   3   潘朵拉\n",
       " 2   3    MK\n",
       " 3   3   帆布包\n",
       " 4   3   女腰包\n",
       " 5   3    長夾\n",
       " 6   3   電子錶\n",
       " 7   3  MLB帽\n",
       " 8   3   真皮鞋\n",
       " 9   3    跟鞋,\n",
       " '日用品・清潔・餐廚・寵物':    組別   搜尋詞\n",
       " 0   3   除濕劑\n",
       " 1   3   鑄鐵鍋\n",
       " 2   3   隔熱墊\n",
       " 3   3    水煙\n",
       " 4   3  兒童水壺\n",
       " 5   3   冷水壺\n",
       " 6   3   魚飼料\n",
       " 7   3  室內拖鞋\n",
       " 8   3   製冰盒\n",
       " 9   3   高腳杯,\n",
       " '母嬰・童裝・尿布・玩具':    組別   搜尋詞\n",
       " 0   3  兒童餐具\n",
       " 1   3  兒童書包\n",
       " 2   3    奇哥\n",
       " 3   3  學習玩具\n",
       " 4   3    拼圖\n",
       " 5   3    娃娃\n",
       " 6   3   遊戲床\n",
       " 7   3   學步車\n",
       " 8   3   包大人\n",
       " 9   3   看護墊,\n",
       " '傢俱・寢具・傢飾・修繕':    組別  搜尋詞\n",
       " 0   3   補土\n",
       " 1   3  工具組\n",
       " 2   3   卷尺\n",
       " 3   3  水晶洞\n",
       " 4   3   涼被\n",
       " 5   3  單人被\n",
       " 6   3   鬧鐘\n",
       " 7   3   椅墊\n",
       " 8   3  水龍頭\n",
       " 9   3  防滑墊,\n",
       " '運動・按摩・戶外・車類':    組別   搜尋詞\n",
       " 0   3   愛迪達\n",
       " 1   3   按摩器\n",
       " 2   3   按摩槍\n",
       " 3   3  肩頸按摩\n",
       " 4   3    登山\n",
       " 5   3    護具\n",
       " 6   3    氧氣\n",
       " 7   3    瑜珈\n",
       " 8   3   跑步機\n",
       " 9   3   啞鈴組,\n",
       " '圖書・文具・影音・樂器':    組別   搜尋詞\n",
       " 0   3    國考\n",
       " 1   3   法律書\n",
       " 2   3    多益\n",
       " 3   3  辦公小物\n",
       " 4   3  桌上收納\n",
       " 5   3   收納盒\n",
       " 6   3   單字書\n",
       " 7   3    直笛\n",
       " 8   3  透明膠帶\n",
       " 9   3    筆袋,\n",
       " '旅遊・票券・加值・軟體':    組別    搜尋詞\n",
       " 0   3     防毒\n",
       " 1   3    家用版\n",
       " 2   3   五星餐卷\n",
       " 3   3    下午茶\n",
       " 4   3   吃到飽卷\n",
       " 5   3  咖啡即享卷\n",
       " 6   3   溫泉泡湯\n",
       " 7   3    度假村\n",
       " 8   3     禮盒\n",
       " 9   3  steam}"
      ]
     },
     "execution_count": 8,
     "metadata": {},
     "output_type": "execute_result"
    }
   ],
   "source": [
    "query_df"
   ]
  },
  {
   "cell_type": "code",
   "execution_count": 9,
   "id": "b6d69d7b",
   "metadata": {},
   "outputs": [],
   "source": [
    "pages = 5"
   ]
  },
  {
   "cell_type": "code",
   "execution_count": 10,
   "id": "4799c02d",
   "metadata": {},
   "outputs": [],
   "source": [
    "product_information_columns = ['0', 'title', 'brand', 'link', 'price', 'amount', 'cate', 'desc']"
   ]
  },
  {
   "cell_type": "code",
   "execution_count": 11,
   "id": "60f1c18e",
   "metadata": {},
   "outputs": [],
   "source": [
    "ua = UserAgent()\n",
    "headers = {'User-Agent': ua.random}"
   ]
  },
  {
   "cell_type": "code",
   "execution_count": null,
   "id": "3914d330",
   "metadata": {},
   "outputs": [],
   "source": []
  },
  {
   "cell_type": "code",
   "execution_count": 12,
   "id": "1df59929",
   "metadata": {},
   "outputs": [],
   "source": [
    "def force_request(url, timeout=5):\n",
    "    try:\n",
    "        resp = requests.get(url, headers=headers, timeout=timeout)\n",
    "        return 0, resp\n",
    "    except:\n",
    "        if timeout > 60:\n",
    "            return 1, []\n",
    "        else:\n",
    "            state, resp = force_request(url, timeout=timeout+5)        \n",
    "            return state, resp"
   ]
  },
  {
   "cell_type": "code",
   "execution_count": 13,
   "id": "e19368d9",
   "metadata": {},
   "outputs": [],
   "source": [
    "def get_query_urls(category, pages=5):\n",
    "    urls = []\n",
    "    category_df = query_df[category].head(10)\n",
    "    keywords = category_df['搜尋詞'].tolist()\n",
    "    for k in tqdm(range(len(keywords))):\n",
    "        keyword = keywords[k]\n",
    "        for page in range(1, pages+1):\n",
    "            url = 'https://m.momoshop.com.tw/search.momo?_advFirst=N&_advCp=N&curPage={}&searchType=1&cateLevel=2&ent=k&searchKeyword={}&_advThreeHours=N&_isFuzzy=0&_imgSH=fourCardType'.format(page, keyword)\n",
    "\n",
    "            state, resp = force_request(url)\n",
    "\n",
    "            if state == 0:\n",
    "                if resp.status_code == 200:\n",
    "                    soup = BeautifulSoup(resp.text, features=\"lxml\")\n",
    "                    for item in soup.select('li.goodsItemLi > a'):\n",
    "                        item_url = 'https://m.momoshop.com.tw' + item['href']\n",
    "                        if item_url not in urls:    urls.append(item_url)\n",
    "                else:\n",
    "                    print(\"沒有資料\")\n",
    "                    break\n",
    "    return urls\n",
    "\n"
   ]
  },
  {
   "cell_type": "code",
   "execution_count": 14,
   "id": "aa8dcbc4",
   "metadata": {},
   "outputs": [],
   "source": [
    "def get_query_urls(category, pages=5):\n",
    "    urls = []\n",
    "    category_df = query_df[category].head(10)\n",
    "    keywords = category_df['搜尋詞'].tolist()\n",
    "    for k in tqdm(range(len(keywords))):\n",
    "        keyword = keywords[k]\n",
    "        for page in range(1, pages+1):\n",
    "            url = 'https://m.momoshop.com.tw/search.momo?_advFirst=N&_advCp=N&curPage={}&searchType=1&cateLevel=2&ent=k&searchKeyword={}&_advThreeHours=N&_isFuzzy=0&_imgSH=fourCardType'.format(page, keyword)\n",
    "\n",
    "            state, resp = force_request(url)\n",
    "\n",
    "            if state == 0:\n",
    "                if resp.status_code == 200:\n",
    "                    soup = BeautifulSoup(resp.text, features=\"lxml\")\n",
    "                    for item in soup.select('li.goodsItemLi > a'):\n",
    "                        item_url = 'https://m.momoshop.com.tw' + item['href']\n",
    "                        if item_url not in urls:    urls.append(item_url)\n",
    "                else:\n",
    "                    print(\"沒有資料\")\n",
    "                    break\n",
    "    return urls"
   ]
  },
  {
   "cell_type": "code",
   "execution_count": 15,
   "id": "595fe0cf",
   "metadata": {},
   "outputs": [],
   "source": [
    "def get_product_information(soup):\n",
    "\n",
    "    try:\n",
    "        title = soup.find('meta',{'property':'og:title'})['content']\n",
    "    except:\n",
    "        title = ''\n",
    "\n",
    "    try:\n",
    "        brand = soup.find('meta',{'property':'product:brand'})['content']\n",
    "    except:\n",
    "        brand = ''\n",
    "\n",
    "    try:\n",
    "        link = soup.find('meta',{'property':'og:url'})['content']\n",
    "    except:\n",
    "        link = ''\n",
    "\n",
    "    try:\n",
    "        price = re.sub(r'\\r\\n| ','',soup.find('del').text)\n",
    "    except:\n",
    "        price = ''\n",
    "\n",
    "    try:\n",
    "        amount = soup.find('meta',{'property':'product:price:amount'})['content']\n",
    "    except:\n",
    "        amount = ''\n",
    "\n",
    "    try:\n",
    "        cate = ''.join([i.text for i in soup.findAll('article', {'class': 'pathArea'})])\n",
    "        cate = re.sub('\\n|\\xa0', ' ', cate)\n",
    "    except:\n",
    "        cate = ''\n",
    "\n",
    "    try:\n",
    "        desc = soup.find('div', {'class': 'Area101'}).text\n",
    "        desc = re.sub('\\r|\\n| ', '', desc)\n",
    "    except:\n",
    "        desc = 'Nan'\n",
    "\n",
    "    return [title, brand, link, price, amount, cate, desc]\n",
    "\n"
   ]
  },
  {
   "cell_type": "code",
   "execution_count": 16,
   "id": "59f55794",
   "metadata": {},
   "outputs": [],
   "source": [
    "def get_product_extra_information(soup): \n",
    "    product_extra_information_json = {}\n",
    "    columns = []\n",
    "    values = []\n",
    "\n",
    "    for i in soup.select('div.attributesArea > table > tr'):\n",
    "        try:\n",
    "            column = i.find('th').text\n",
    "            column = re.sub('\\n|\\r| ', '', column)\n",
    "            value = ''.join([j.text for j in i.findAll('li')])\n",
    "            value = re.sub('\\n|\\r| ', '', value)\n",
    "\n",
    "            if column not in product_extra_information_json.keys():\n",
    "                product_extra_information_json[column] = [value]\n",
    "            else:\n",
    "                product_extra_information_json[column] = product_extra_information_json[column] + [value]\n",
    "\n",
    "        except:\n",
    "            pass\n",
    "        \n",
    "    for key in product_extra_information_json.keys():\n",
    "        columns.append(key)\n",
    "        values.append(product_extra_information_json[key][0])\n",
    "\n",
    "    return values, columns\n",
    "\n"
   ]
  },
  {
   "cell_type": "code",
   "execution_count": 17,
   "id": "c8458f9a",
   "metadata": {},
   "outputs": [
    {
     "name": "stdout",
     "output_type": "stream",
     "text": [
      "家電・電玩・視聽・廚三機\n"
     ]
    },
    {
     "name": "stderr",
     "output_type": "stream",
     "text": [
      "100%|███████████████████████████████████████████| 10/10 [00:50<00:00,  5.04s/it]\n",
      "100%|█████████████████████████████████████████| 877/877 [15:52<00:00,  1.09s/it]\n"
     ]
    },
    {
     "name": "stdout",
     "output_type": "stream",
     "text": [
      "手機・平板・耳機・攝相機\n"
     ]
    },
    {
     "name": "stderr",
     "output_type": "stream",
     "text": [
      "100%|███████████████████████████████████████████| 10/10 [01:04<00:00,  6.47s/it]\n",
      "100%|███████████████████████████████████████| 1000/1000 [13:57<00:00,  1.19it/s]\n"
     ]
    },
    {
     "name": "stdout",
     "output_type": "stream",
     "text": [
      "電腦・電競・週邊・零組件\n"
     ]
    },
    {
     "name": "stderr",
     "output_type": "stream",
     "text": [
      "100%|███████████████████████████████████████████| 10/10 [00:39<00:00,  3.91s/it]\n",
      "100%|█████████████████████████████████████████| 688/688 [11:52<00:00,  1.04s/it]\n"
     ]
    },
    {
     "name": "stdout",
     "output_type": "stream",
     "text": [
      "保健・醫療用品・保險套\n"
     ]
    },
    {
     "name": "stderr",
     "output_type": "stream",
     "text": [
      "100%|███████████████████████████████████████████| 10/10 [00:35<00:00,  3.51s/it]\n",
      "100%|█████████████████████████████████████████| 582/582 [09:30<00:00,  1.02it/s]\n"
     ]
    },
    {
     "name": "stdout",
     "output_type": "stream",
     "text": [
      "食品・零食・飲料・生鮮\n"
     ]
    },
    {
     "name": "stderr",
     "output_type": "stream",
     "text": [
      "100%|███████████████████████████████████████████| 10/10 [00:42<00:00,  4.22s/it]\n",
      "100%|█████████████████████████████████████████| 630/630 [09:47<00:00,  1.07it/s]\n"
     ]
    },
    {
     "name": "stdout",
     "output_type": "stream",
     "text": [
      "彩妝・保養・洗沐・香氛\n"
     ]
    },
    {
     "name": "stderr",
     "output_type": "stream",
     "text": [
      "100%|███████████████████████████████████████████| 10/10 [00:51<00:00,  5.14s/it]\n",
      "100%|█████████████████████████████████████████| 741/741 [13:19<00:00,  1.08s/it]\n"
     ]
    },
    {
     "name": "stdout",
     "output_type": "stream",
     "text": [
      "服裝・內衣褲・襪子・機能\n"
     ]
    },
    {
     "name": "stderr",
     "output_type": "stream",
     "text": [
      "100%|███████████████████████████████████████████| 10/10 [00:47<00:00,  4.79s/it]\n",
      "100%|█████████████████████████████████████████| 927/927 [14:16<00:00,  1.08it/s]\n"
     ]
    },
    {
     "name": "stdout",
     "output_type": "stream",
     "text": [
      "珠寶・精品・配飾・鞋包箱\n"
     ]
    },
    {
     "name": "stderr",
     "output_type": "stream",
     "text": [
      "100%|███████████████████████████████████████████| 10/10 [00:58<00:00,  5.84s/it]\n",
      "100%|███████████████████████████████████████| 1000/1000 [14:40<00:00,  1.14it/s]\n"
     ]
    },
    {
     "name": "stdout",
     "output_type": "stream",
     "text": [
      "日用品・清潔・餐廚・寵物\n"
     ]
    },
    {
     "name": "stderr",
     "output_type": "stream",
     "text": [
      "100%|███████████████████████████████████████████| 10/10 [01:00<00:00,  6.05s/it]\n",
      "100%|█████████████████████████████████████████| 904/904 [18:32<00:00,  1.23s/it]\n"
     ]
    },
    {
     "name": "stdout",
     "output_type": "stream",
     "text": [
      "母嬰・童裝・尿布・玩具\n"
     ]
    },
    {
     "name": "stderr",
     "output_type": "stream",
     "text": [
      "100%|███████████████████████████████████████████| 10/10 [01:05<00:00,  6.51s/it]\n",
      "100%|██████████████████████████████████████| 941/941 [12:12:15<00:00, 46.69s/it]\n"
     ]
    },
    {
     "name": "stdout",
     "output_type": "stream",
     "text": [
      "傢俱・寢具・傢飾・修繕\n"
     ]
    },
    {
     "name": "stderr",
     "output_type": "stream",
     "text": [
      "100%|███████████████████████████████████████████| 10/10 [00:58<00:00,  5.81s/it]\n",
      "100%|███████████████████████████████████████| 1000/1000 [16:11<00:00,  1.03it/s]\n"
     ]
    },
    {
     "name": "stdout",
     "output_type": "stream",
     "text": [
      "運動・按摩・戶外・車類\n"
     ]
    },
    {
     "name": "stderr",
     "output_type": "stream",
     "text": [
      "100%|███████████████████████████████████████████| 10/10 [00:54<00:00,  5.42s/it]\n",
      "100%|███████████████████████████████████████| 1000/1000 [21:50<00:00,  1.31s/it]\n"
     ]
    },
    {
     "name": "stdout",
     "output_type": "stream",
     "text": [
      "圖書・文具・影音・樂器\n"
     ]
    },
    {
     "name": "stderr",
     "output_type": "stream",
     "text": [
      "100%|███████████████████████████████████████████| 10/10 [01:06<00:00,  6.70s/it]\n",
      "100%|█████████████████████████████████████████| 816/816 [17:54<00:00,  1.32s/it]\n"
     ]
    },
    {
     "name": "stdout",
     "output_type": "stream",
     "text": [
      "旅遊・票券・加值・軟體\n"
     ]
    },
    {
     "name": "stderr",
     "output_type": "stream",
     "text": [
      "100%|███████████████████████████████████████████| 10/10 [00:48<00:00,  4.80s/it]\n",
      "100%|█████████████████████████████████████████| 663/663 [14:02<00:00,  1.27s/it]\n"
     ]
    }
   ],
   "source": [
    "for sheet in sheet_names:\n",
    "    print(sheet)\n",
    "    time_out_json = {}\n",
    "    df = pd.DataFrame(columns=product_information_columns)\n",
    "    df_list = []\n",
    "    timeout_df = pd.DataFrame(columns=['id', 'url'])\n",
    "    sheet_name_clean = sheet.replace('・', '-')\n",
    "\n",
    "    urls = get_query_urls(sheet)\n",
    "\n",
    "    for u in tqdm(range(len(urls))):     \n",
    "        url = urls[u]\n",
    "        state, resp = force_request(url)\n",
    "        if state == 0:\n",
    "            soup = BeautifulSoup(resp.text, features=\"lxml\")\n",
    "            product_information = get_product_information(soup)\n",
    "            product_extra_information, extra_columns = get_product_extra_information(soup)\n",
    "            product_df = pd.DataFrame([[u]+product_information+product_extra_information], columns=product_information_columns+extra_columns)\n",
    "            df_list.append(product_df)\n",
    "        else:\n",
    "            timeout_df.loc[len(timeout_df.index)] = [u, url]\n",
    "\n",
    "    df = pd.concat(df_list, ignore_index=True)\n",
    "\n",
    "    if not os.path.isdir(student_id[0]):   os.makedirs(student_id[0])\n",
    "    df.to_excel(f'./{student_id[0]}/{student_id[0]}_{student_name[0]}_{sheet_name_clean}_hw_1.xlsx')\n",
    "\n",
    "    if not os.path.isdir(student_id[1]):   os.makedirs(student_id[1])\n",
    "    df.to_excel(f'./{student_id[1]}/{student_id[1]}_{student_name[1]}_{sheet_name_clean}_hw_1.xlsx')\n",
    "\n",
    "    if not os.path.isdir('timeout'):   os.makedirs('timeout')\n",
    "    timeout_df.to_excel(f'./timeout/timeout_{sheet_name_clean}.xlsx')"
   ]
  },
  {
   "cell_type": "code",
   "execution_count": null,
   "id": "6b18352a",
   "metadata": {},
   "outputs": [],
   "source": []
  }
 ],
 "metadata": {
  "kernelspec": {
   "display_name": "Python 3 (ipykernel)",
   "language": "python",
   "name": "python3"
  },
  "language_info": {
   "codemirror_mode": {
    "name": "ipython",
    "version": 3
   },
   "file_extension": ".py",
   "mimetype": "text/x-python",
   "name": "python",
   "nbconvert_exporter": "python",
   "pygments_lexer": "ipython3",
   "version": "3.9.7"
  }
 },
 "nbformat": 4,
 "nbformat_minor": 5
}
